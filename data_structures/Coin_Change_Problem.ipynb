{
 "cells": [
  {
   "cell_type": "markdown",
   "metadata": {},
   "source": [
    "# Find Minimum number of Coins"
   ]
  },
  {
   "cell_type": "markdown",
   "metadata": {},
   "source": [
    "### Problem Statement"
   ]
  },
  {
   "cell_type": "raw",
   "metadata": {},
   "source": [
    "Total sum of coin V,\n",
    "we want to make change for V,\n",
    "Coins are avaliable in form of { 1, 2, 5, 10} \n",
    "what is the minimum number of coins needed to make the change?"
   ]
  },
  {
   "cell_type": "markdown",
   "metadata": {},
   "source": [
    "#### Example:"
   ]
  },
  {
   "cell_type": "raw",
   "metadata": {},
   "source": [
    "V = 30\n",
    "Input: {25, 10, 5}\n",
    "Output: 2 coins (25, 5) \n",
    "\n",
    "V = 11\n",
    "Input: {8, 6, 5, 1},\n",
    "Output: 2 coins (6, 5)"
   ]
  },
  {
   "cell_type": "raw",
   "metadata": {},
   "source": [
    "Here we have applied 3 approach to solve this problem:\n",
    "    1) Greedy Algorithm\n",
    "    2) Recursive Method\n",
    "    3) Dynamic Programming"
   ]
  },
  {
   "cell_type": "markdown",
   "metadata": {},
   "source": [
    "## Greedy Algorithm"
   ]
  },
  {
   "cell_type": "raw",
   "metadata": {},
   "source": [
    "Take the largest possible coin first and keep adding.\n",
    "Idea is to Greedly choose the largest value first."
   ]
  },
  {
   "cell_type": "raw",
   "metadata": {},
   "source": [
    "1) Initialize result as empty.\n",
    "2) find the largest denomination that is smaller than V.\n",
    "3) Add found denomination to result. Subtract value of found denomination from V.\n",
    "4) If V becomes 0, then print result. Else repeat steps 2 and 3 for new value of V."
   ]
  },
  {
   "cell_type": "code",
   "execution_count": 12,
   "metadata": {},
   "outputs": [
    {
     "name": "stdout",
     "output_type": "stream",
     "text": [
      "Coin change for  93 : is 50 20 20 2 1 "
     ]
    }
   ],
   "source": [
    " def min_coin(V, coins): \n",
    "    ans = [] \n",
    "    i = len(coins) - 1\n",
    "    while(i >= 0): \n",
    "        while (V >= coins[i]): \n",
    "            V -= coins[i] \n",
    "            ans.append(coins[i]) \n",
    "  \n",
    "        i = i-1\n",
    "    for i in range(len(ans)): \n",
    "        print(ans[i], end = \" \") \n",
    "\n",
    "if __name__ == '__main__': \n",
    "    n = 93\n",
    "    coins = [1, 2, 5, 10, 20, 50, 100, 500, 1000] \n",
    "    print(\"Coin change for \", n, \": is \", end = \"\") \n",
    "    min_coin(n, coins) \n",
    "      "
   ]
  },
  {
   "cell_type": "raw",
   "metadata": {},
   "source": [
    "Greedy method does not work well for all the cases.\n",
    "For example:\n",
    "V = 11\n",
    "Coins : {9, 6, 5, 1}.\n",
    "Output will be : (9, 1, 1)\n",
    "But corretc answer is (5, 6)."
   ]
  },
  {
   "cell_type": "markdown",
   "metadata": {},
   "source": [
    "In above case Greedy method fails, So, Use \"Recursive solution\" or \"Dynamic programming\"."
   ]
  },
  {
   "cell_type": "markdown",
   "metadata": {},
   "source": [
    "## Recursive Solution"
   ]
  },
  {
   "cell_type": "raw",
   "metadata": {},
   "source": [
    "Base Condition: If V == 0, => 0 coins required.\n",
    "             Else : If V > 0  => min_coin(coins[0..m-1], V) = min {1 + min_coin(V-coin[i])} \n",
    "                               where i varies from 0 to m-1 and coin[i] <= V "
   ]
  },
  {
   "cell_type": "code",
   "execution_count": 13,
   "metadata": {},
   "outputs": [
    {
     "name": "stdout",
     "output_type": "stream",
     "text": [
      "Minimum coins required is 2\n"
     ]
    }
   ],
   "source": [
    "import sys \n",
    "\n",
    "def min_coins(coins, m, V): \n",
    "  \n",
    "    # base case \n",
    "    if (V == 0): \n",
    "        return 0\n",
    "  \n",
    "    # Initialize result \n",
    "    res = sys.maxsize \n",
    "      \n",
    "    # Try every coin that has smaller value than V \n",
    "    for i in range(0, m): \n",
    "        if (coins[i] <= V): \n",
    "            sub_res = minCoins(coins, m, V-coins[i]) \n",
    "  \n",
    "            # Check for INT_MAX to avoid overflow and see if result can minimized \n",
    "            if (sub_res != sys.maxsize and sub_res + 1 < res): \n",
    "                res = sub_res + 1\n",
    "  \n",
    "    return res \n",
    " \n",
    "coins = [9, 6, 5, 1] \n",
    "m = len(coins) \n",
    "V = 11\n",
    "print(\"Minimum coins required is\",min_coins(coins, m, V)) "
   ]
  },
  {
   "cell_type": "markdown",
   "metadata": {},
   "source": [
    " Time complexity of above solution is exponential"
   ]
  },
  {
   "cell_type": "markdown",
   "metadata": {},
   "source": [
    "## Dynamic Programming based solution"
   ]
  },
  {
   "cell_type": "code",
   "execution_count": 14,
   "metadata": {},
   "outputs": [
    {
     "name": "stdout",
     "output_type": "stream",
     "text": [
      "Minimum coins required is  2\n"
     ]
    }
   ],
   "source": [
    "import sys  \n",
    "\n",
    "def min_coins(coins, m, V): \n",
    "    table = [0 for i in range(V + 1)] \n",
    "  \n",
    "    # Base case\n",
    "    table[0] = 0\n",
    "  \n",
    "    # Initialize all table values as Infinite \n",
    "    for i in range(1, V + 1): \n",
    "        table[i] = sys.maxsize \n",
    "  \n",
    "    # Compute minimum coins required  \n",
    "    # for all values from 1 to V \n",
    "    for i in range(1, V + 1): \n",
    "          \n",
    "        # Go through all coins smaller than i \n",
    "        for j in range(m): \n",
    "            if (coins[j] <= i): \n",
    "                sub_res = table[i - coins[j]] \n",
    "                if (sub_res != sys.maxsize and \n",
    "                    sub_res + 1 < table[i]): \n",
    "                    table[i] = sub_res + 1\n",
    "    return table[V] \n",
    "\n",
    "if __name__ == \"__main__\": \n",
    "  \n",
    "    coins = [9, 6, 5, 1] \n",
    "    m = len(coins) \n",
    "    V = 11\n",
    "    print(\"Minimum coins required is \",  min_coins(coins, m, V)) "
   ]
  },
  {
   "cell_type": "markdown",
   "metadata": {},
   "source": [
    "Time complexity of the above solution is O(mV)"
   ]
  },
  {
   "cell_type": "code",
   "execution_count": null,
   "metadata": {},
   "outputs": [],
   "source": []
  },
  {
   "cell_type": "code",
   "execution_count": null,
   "metadata": {},
   "outputs": [],
   "source": []
  }
 ],
 "metadata": {
  "kernelspec": {
   "display_name": "Python 3",
   "language": "python",
   "name": "python3"
  },
  "language_info": {
   "codemirror_mode": {
    "name": "ipython",
    "version": 3
   },
   "file_extension": ".py",
   "mimetype": "text/x-python",
   "name": "python",
   "nbconvert_exporter": "python",
   "pygments_lexer": "ipython3",
   "version": "3.5.5"
  },
  "widgets": {
   "state": {},
   "version": "1.1.2"
  }
 },
 "nbformat": 4,
 "nbformat_minor": 2
}
